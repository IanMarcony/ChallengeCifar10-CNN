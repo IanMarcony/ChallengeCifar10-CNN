{
  "cells": [
    {
      "cell_type": "code",
      "execution_count": 41,
      "metadata": {
        "id": "tSruv1-oxfzx"
      },
      "outputs": [],
      "source": [
        "#Importando libs essenciais\n",
        "import matplotlib.pyplot as plt\n",
        "from keras.datasets import cifar10\n",
        "from keras.models import Sequential\n",
        "from keras.layers import Dense, Flatten, Conv2D, MaxPooling2D\n",
        "from tensorflow.keras.utils import to_categorical\n",
        "import numpy as np\n",
        "from sklearn.model_selection import StratifiedKFold\n",
        "from tensorflow.keras.layers import BatchNormalization\n",
        "from keras.layers  import Dropout\n",
        "from keras.preprocessing.image import ImageDataGenerator"
      ]
    },
    {
      "cell_type": "code",
      "execution_count": 42,
      "metadata": {
        "id": "0E7QkqDI3jbF"
      },
      "outputs": [],
      "source": [
        "#Seperando dados para treinamentos\n",
        "seed = 10\n",
        "np.random.seed(seed)\n",
        "(X_treinamento, y_treinamento),(X_teste, y_teste) =  cifar10.load_data()"
      ]
    },
    {
      "cell_type": "code",
      "execution_count": 43,
      "metadata": {
        "colab": {
          "base_uri": "https://localhost:8080/",
          "height": 447
        },
        "id": "PHFwKWPb36ha",
        "outputId": "8f51f205-9286-49ef-8017-d4f12741139f"
      },
      "outputs": [
        {
          "output_type": "execute_result",
          "data": {
            "text/plain": [
              "<matplotlib.image.AxesImage at 0x7e5e401d0640>"
            ]
          },
          "metadata": {},
          "execution_count": 43
        },
        {
          "output_type": "display_data",
          "data": {
            "text/plain": [
              "<Figure size 640x480 with 1 Axes>"
            ],
            "image/png": "[encoded data removed]"
          },
          "metadata": {}
        }
      ],
      "source": [
        "#Mostrando imagem\n",
        "plt.imshow(X_treinamento[46])"
      ]
    },
    {
      "cell_type": "code",
      "execution_count": 44,
      "metadata": {
        "id": "IdIK-uIK3zNH"
      },
      "outputs": [],
      "source": [
        "#Convertendo imagens\n",
        "previsores_treinamento = X_treinamento.reshape(X_treinamento.shape[0], 32, 32, 3)\n",
        "previsores_teste = X_teste.reshape(X_teste.shape[0], 32, 32, 3)\n",
        "previsores_treinamento = previsores_treinamento.astype('float32')\n",
        "previsores_teste = previsores_teste.astype('float32')"
      ]
    },
    {
      "cell_type": "code",
      "execution_count": 45,
      "metadata": {
        "id": "wzZOnLzW3T6u"
      },
      "outputs": [],
      "source": [
        "#Tratando dados de pixels para uma escala de 0-1\n",
        "previsores_treinamento /= 255\n",
        "previsores_teste /= 255"
      ]
    },
    {
      "cell_type": "code",
      "execution_count": 46,
      "metadata": {
        "id": "Sm6v7V23IHqR"
      },
      "outputs": [],
      "source": [
        "#Convertendo classes\n",
        "classe_treinamento = to_categorical(y_treinamento, 10)\n",
        "classe_teste = to_categorical(y_teste, 10)"
      ]
    },
    {
      "cell_type": "code",
      "execution_count": 67,
      "metadata": {
        "id": "-h8vuRBSOW4p"
      },
      "outputs": [],
      "source": [
        "# Augumentation\n",
        "gerador_treinamento = ImageDataGenerator(rotation_range=7,\n",
        "                                         horizontal_flip= True,\n",
        "                                         shear_range = 0.2,\n",
        "                                         height_shift_range = 0.07,\n",
        "                                         zoom_range=0.2)\n",
        "\n",
        "gerador_teste = ImageDataGenerator()\n",
        "\n",
        "base_treinamento = gerador_treinamento.flow(previsores_treinamento, classe_treinamento, batch_size= 128)\n",
        "base_teste = gerador_teste.flow(previsores_teste, classe_teste, batch_size= 128)"
      ]
    },
    {
      "cell_type": "code",
      "source": [
        "print(base_treinamento.x.shape)\n",
        "print(base_treinamento.batch_size)\n",
        "print(base_teste.y.shape)"
      ],
      "metadata": {
        "colab": {
          "base_uri": "https://localhost:8080/"
        },
        "id": "QbQ_RxvWJjmJ",
        "outputId": "89ab7b4e-286f-4ad2-d195-8a864c0158c5"
      },
      "execution_count": 70,
      "outputs": [
        {
          "output_type": "stream",
          "name": "stdout",
          "text": [
            "(50000, 32, 32, 3)\n",
            "128\n",
            "(10000, 10)\n"
          ]
        }
      ]
    },
    {
      "cell_type": "code",
      "execution_count": 53,
      "metadata": {
        "id": "WVqqQxlyLVeY"
      },
      "outputs": [],
      "source": [
        "#Iniciar rede covulacional\n",
        "def criarRede():\n",
        "  classificador = Sequential()\n",
        "  classificador.add(Conv2D(32, (4,4), input_shape=(32,32,3),\n",
        "                          activation = \"relu\")) #Criação do mapa de características\n",
        "  classificador.add(BatchNormalization()) #Normalização dos dados\n",
        "  classificador.add(MaxPooling2D(pool_size=(2,2))) #Realização do MaxPooling para pegar as principais características\n",
        "\n",
        "\n",
        "  classificador.add(Conv2D(32, (3,3),strides=2, activation = \"relu\")) #Criação do mapa de características\n",
        "  classificador.add(BatchNormalization()) #Normalização dos dados\n",
        "  classificador.add(MaxPooling2D(pool_size=(2,2))) #Realização do MaxPooling para pegar as principais características\n",
        "\n",
        "\n",
        "  classificador.add(Flatten()) #Normalizar para uma entrada comum na rede neural densa\n",
        "  classificador.add(Dense(units=128, activation = \"relu\" ))\n",
        "  classificador.add(Dropout(0.2))\n",
        "  classificador.add(Dense(units=128, activation = \"relu\" ))\n",
        "  classificador.add(Dropout(0.2))\n",
        "  classificador.add(Dense(units=10, activation = \"softmax\" ))\n",
        "  classificador.compile(loss = 'categorical_crossentropy',\n",
        "                        optimizer = 'adam', metrics = ['accuracy'])\n",
        "  return classificador"
      ]
    },
    {
      "cell_type": "code",
      "source": [
        "classificador = criarRede()"
      ],
      "metadata": {
        "id": "V2-OxcE9qYKu"
      },
      "execution_count": 54,
      "outputs": []
    },
    {
      "cell_type": "code",
      "source": [
        "#Validação cruzada\n",
        "kfold = StratifiedKFold(n_splits = 5, shuffle = True, random_state = seed)\n",
        "\n",
        "resultados = []\n",
        "\n",
        "for index_treinamento, index_teste in kfold.split(previsores_treinamento, np.zeros(shape = (classe_treinamento.shape[0], 1))):\n",
        "  classificador.fit(previsores_treinamento[index_treinamento], classe_treinamento[index_treinamento],\n",
        "                    batch_size= 128, epochs = 15)\n",
        "  precisao = classificador.evaluate(previsores_treinamento[index_teste], classe_treinamento[index_teste])\n",
        "  resultados.append(precisao[1])"
      ],
      "metadata": {
        "colab": {
          "base_uri": "https://localhost:8080/"
        },
        "id": "BnMPy5Stqq2D",
        "outputId": "73fe72c0-4284-40d7-893e-ca1b7bb87416"
      },
      "execution_count": 60,
      "outputs": [
        {
          "output_type": "stream",
          "name": "stdout",
          "text": [
            "Epoch 1/15\n",
            "313/313 [==============================] - 20s 65ms/step - loss: 0.3798 - accuracy: 0.8648\n",
            "Epoch 2/15\n",
            "313/313 [==============================] - 20s 65ms/step - loss: 0.3718 - accuracy: 0.8666\n",
            "Epoch 3/15\n",
            "313/313 [==============================] - 20s 64ms/step - loss: 0.3689 - accuracy: 0.8691\n",
            "Epoch 4/15\n",
            "313/313 [==============================] - 20s 65ms/step - loss: 0.3602 - accuracy: 0.8724\n",
            "Epoch 5/15\n",
            "313/313 [==============================] - 20s 65ms/step - loss: 0.3613 - accuracy: 0.8716\n",
            "Epoch 6/15\n",
            "313/313 [==============================] - 20s 65ms/step - loss: 0.3596 - accuracy: 0.8709\n",
            "Epoch 7/15\n",
            "313/313 [==============================] - 20s 65ms/step - loss: 0.3520 - accuracy: 0.8742\n",
            "Epoch 8/15\n",
            "313/313 [==============================] - 20s 65ms/step - loss: 0.3539 - accuracy: 0.8748\n",
            "Epoch 9/15\n",
            "313/313 [==============================] - 20s 64ms/step - loss: 0.3542 - accuracy: 0.8724\n",
            "Epoch 10/15\n",
            "313/313 [==============================] - 20s 65ms/step - loss: 0.3509 - accuracy: 0.8760\n",
            "Epoch 11/15\n",
            "313/313 [==============================] - 21s 66ms/step - loss: 0.3521 - accuracy: 0.8747\n",
            "Epoch 12/15\n",
            "313/313 [==============================] - 20s 65ms/step - loss: 0.3429 - accuracy: 0.8764\n",
            "Epoch 13/15\n",
            "313/313 [==============================] - 20s 65ms/step - loss: 0.3439 - accuracy: 0.8768\n",
            "Epoch 14/15\n",
            "313/313 [==============================] - 20s 64ms/step - loss: 0.3479 - accuracy: 0.8768\n",
            "Epoch 15/15\n",
            "313/313 [==============================] - 20s 65ms/step - loss: 0.3383 - accuracy: 0.8797\n",
            "313/313 [==============================] - 2s 5ms/step - loss: 0.5865 - accuracy: 0.8012\n",
            "Epoch 1/15\n",
            "313/313 [==============================] - 20s 64ms/step - loss: 0.4480 - accuracy: 0.8484\n",
            "Epoch 2/15\n",
            "313/313 [==============================] - 20s 65ms/step - loss: 0.4070 - accuracy: 0.8573\n",
            "Epoch 3/15\n",
            "313/313 [==============================] - 20s 64ms/step - loss: 0.4002 - accuracy: 0.8602\n",
            "Epoch 4/15\n",
            "313/313 [==============================] - 20s 65ms/step - loss: 0.4001 - accuracy: 0.8598\n",
            "Epoch 5/15\n",
            "313/313 [==============================] - 20s 65ms/step - loss: 0.3859 - accuracy: 0.8618\n",
            "Epoch 6/15\n",
            "313/313 [==============================] - 20s 65ms/step - loss: 0.3752 - accuracy: 0.8665\n",
            "Epoch 7/15\n",
            "313/313 [==============================] - 20s 65ms/step - loss: 0.3743 - accuracy: 0.8672\n",
            "Epoch 8/15\n",
            "313/313 [==============================] - 20s 65ms/step - loss: 0.3643 - accuracy: 0.8705\n",
            "Epoch 9/15\n",
            "313/313 [==============================] - 20s 64ms/step - loss: 0.3628 - accuracy: 0.8703\n",
            "Epoch 10/15\n",
            "313/313 [==============================] - 21s 66ms/step - loss: 0.3617 - accuracy: 0.8703\n",
            "Epoch 11/15\n",
            "313/313 [==============================] - 21s 66ms/step - loss: 0.3613 - accuracy: 0.8719\n",
            "Epoch 12/15\n",
            "313/313 [==============================] - 21s 66ms/step - loss: 0.3523 - accuracy: 0.8748\n",
            "Epoch 13/15\n",
            "313/313 [==============================] - 20s 65ms/step - loss: 0.3450 - accuracy: 0.8748\n",
            "Epoch 14/15\n",
            "313/313 [==============================] - 20s 65ms/step - loss: 0.3436 - accuracy: 0.8785\n",
            "Epoch 15/15\n",
            "313/313 [==============================] - 20s 64ms/step - loss: 0.3489 - accuracy: 0.8747\n",
            "313/313 [==============================] - 2s 5ms/step - loss: 0.5908 - accuracy: 0.7984\n",
            "Epoch 1/15\n",
            "313/313 [==============================] - 21s 66ms/step - loss: 0.4135 - accuracy: 0.8540\n",
            "Epoch 2/15\n",
            "313/313 [==============================] - 20s 65ms/step - loss: 0.3888 - accuracy: 0.8615\n",
            "Epoch 3/15\n",
            "313/313 [==============================] - 20s 65ms/step - loss: 0.3718 - accuracy: 0.8683\n",
            "Epoch 4/15\n",
            "313/313 [==============================] - 20s 65ms/step - loss: 0.3690 - accuracy: 0.8702\n",
            "Epoch 5/15\n",
            "313/313 [==============================] - 21s 66ms/step - loss: 0.3608 - accuracy: 0.8699\n",
            "Epoch 6/15\n",
            "313/313 [==============================] - 21s 66ms/step - loss: 0.3561 - accuracy: 0.8720\n",
            "Epoch 7/15\n",
            "313/313 [==============================] - 21s 66ms/step - loss: 0.3530 - accuracy: 0.8745\n",
            "Epoch 8/15\n",
            "313/313 [==============================] - 20s 64ms/step - loss: 0.3497 - accuracy: 0.8765\n",
            "Epoch 9/15\n",
            "313/313 [==============================] - 20s 64ms/step - loss: 0.3468 - accuracy: 0.8770\n",
            "Epoch 10/15\n",
            "313/313 [==============================] - 20s 62ms/step - loss: 0.3438 - accuracy: 0.8789\n",
            "Epoch 11/15\n",
            "313/313 [==============================] - 20s 64ms/step - loss: 0.3432 - accuracy: 0.8773\n",
            "Epoch 12/15\n",
            "313/313 [==============================] - 20s 64ms/step - loss: 0.3326 - accuracy: 0.8823\n",
            "Epoch 13/15\n",
            "313/313 [==============================] - 20s 64ms/step - loss: 0.3421 - accuracy: 0.8770\n",
            "Epoch 14/15\n",
            "313/313 [==============================] - 20s 62ms/step - loss: 0.3329 - accuracy: 0.8809\n",
            "Epoch 15/15\n",
            "313/313 [==============================] - 20s 64ms/step - loss: 0.3390 - accuracy: 0.8795\n",
            "313/313 [==============================] - 2s 5ms/step - loss: 0.4170 - accuracy: 0.8510\n",
            "Epoch 1/15\n",
            "313/313 [==============================] - 20s 65ms/step - loss: 0.3863 - accuracy: 0.8637\n",
            "Epoch 2/15\n",
            "313/313 [==============================] - 21s 66ms/step - loss: 0.3669 - accuracy: 0.8693\n",
            "Epoch 3/15\n",
            "313/313 [==============================] - 21s 66ms/step - loss: 0.3697 - accuracy: 0.8681\n",
            "Epoch 4/15\n",
            "313/313 [==============================] - 21s 66ms/step - loss: 0.3518 - accuracy: 0.8758\n",
            "Epoch 5/15\n",
            "313/313 [==============================] - 20s 65ms/step - loss: 0.3455 - accuracy: 0.8777\n",
            "Epoch 6/15\n",
            "313/313 [==============================] - 20s 65ms/step - loss: 0.3495 - accuracy: 0.8758\n",
            "Epoch 7/15\n",
            "313/313 [==============================] - 21s 66ms/step - loss: 0.3431 - accuracy: 0.8787\n",
            "Epoch 8/15\n",
            "313/313 [==============================] - 21s 66ms/step - loss: 0.3344 - accuracy: 0.8807\n",
            "Epoch 9/15\n",
            "313/313 [==============================] - 21s 67ms/step - loss: 0.3339 - accuracy: 0.8824\n",
            "Epoch 10/15\n",
            "313/313 [==============================] - 21s 66ms/step - loss: 0.3272 - accuracy: 0.8839\n",
            "Epoch 11/15\n",
            "313/313 [==============================] - 20s 65ms/step - loss: 0.3345 - accuracy: 0.8812\n",
            "Epoch 12/15\n",
            "313/313 [==============================] - 20s 63ms/step - loss: 0.3253 - accuracy: 0.8830\n",
            "Epoch 13/15\n",
            "313/313 [==============================] - 20s 65ms/step - loss: 0.3245 - accuracy: 0.8842\n",
            "Epoch 14/15\n",
            "313/313 [==============================] - 20s 65ms/step - loss: 0.3238 - accuracy: 0.8834\n",
            "Epoch 15/15\n",
            "313/313 [==============================] - 20s 64ms/step - loss: 0.3182 - accuracy: 0.8851\n",
            "313/313 [==============================] - 2s 5ms/step - loss: 0.4767 - accuracy: 0.8426\n",
            "Epoch 1/15\n",
            "313/313 [==============================] - 20s 65ms/step - loss: 0.3740 - accuracy: 0.8691\n",
            "Epoch 2/15\n",
            "313/313 [==============================] - 21s 66ms/step - loss: 0.3572 - accuracy: 0.8730\n",
            "Epoch 3/15\n",
            "313/313 [==============================] - 21s 66ms/step - loss: 0.3443 - accuracy: 0.8772\n",
            "Epoch 4/15\n",
            "313/313 [==============================] - 21s 66ms/step - loss: 0.3343 - accuracy: 0.8806\n",
            "Epoch 5/15\n",
            "313/313 [==============================] - 21s 67ms/step - loss: 0.3275 - accuracy: 0.8846\n",
            "Epoch 6/15\n",
            "313/313 [==============================] - 20s 64ms/step - loss: 0.3272 - accuracy: 0.8833\n",
            "Epoch 7/15\n",
            "313/313 [==============================] - 21s 67ms/step - loss: 0.3258 - accuracy: 0.8831\n",
            "Epoch 8/15\n",
            "313/313 [==============================] - 21s 66ms/step - loss: 0.3230 - accuracy: 0.8831\n",
            "Epoch 9/15\n",
            "313/313 [==============================] - 21s 66ms/step - loss: 0.3154 - accuracy: 0.8874\n",
            "Epoch 10/15\n",
            "313/313 [==============================] - 21s 66ms/step - loss: 0.3211 - accuracy: 0.8841\n",
            "Epoch 11/15\n",
            "313/313 [==============================] - 21s 66ms/step - loss: 0.3147 - accuracy: 0.8874\n",
            "Epoch 12/15\n",
            "313/313 [==============================] - 20s 65ms/step - loss: 0.3023 - accuracy: 0.8936\n",
            "Epoch 13/15\n",
            "313/313 [==============================] - 21s 66ms/step - loss: 0.3071 - accuracy: 0.8903\n",
            "Epoch 14/15\n",
            "313/313 [==============================] - 21s 66ms/step - loss: 0.3036 - accuracy: 0.8925\n",
            "Epoch 15/15\n",
            "313/313 [==============================] - 21s 66ms/step - loss: 0.3127 - accuracy: 0.8892\n",
            "313/313 [==============================] - 2s 5ms/step - loss: 0.5434 - accuracy: 0.8159\n"
          ]
        }
      ]
    },
    {
      "cell_type": "code",
      "execution_count": 66,
      "metadata": {
        "colab": {
          "base_uri": "https://localhost:8080/"
        },
        "id": "z7Itz18JOQ4U",
        "outputId": "65344be9-af73-46bf-d6ea-d1ed8f8b49c9"
      },
      "outputs": [
        {
          "output_type": "stream",
          "name": "stdout",
          "text": [
            "0.8218199968338012\n"
          ]
        }
      ],
      "source": [
        "mediaCross  = sum(resultados)/len(resultados)\n",
        "print(mediaCross)"
      ]
    }
  ],
  "metadata": {
    "colab": {
      "provenance": []
    },
    "kernelspec": {
      "display_name": "Python 3",
      "name": "python3"
    },
    "language_info": {
      "name": "python"
    }
  },
  "nbformat": 4,
  "nbformat_minor": 0
}